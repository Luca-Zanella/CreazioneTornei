{
  "cells": [
    {
      "cell_type": "code",
      "execution_count": 1,
      "source": [
        "numero_squadre = int(input(\"Inserisci il numero di squadre \\n\"))\r\n",
        "squadre = []\r\n",
        "\r\n",
        "for i in range(numero_squadre):\r\n",
        "    nome_squadra = str(input(\"Inserici il nome della tua squadra \\n\"))\r\n",
        "    squadre.append(nome_squadra)\r\n",
        "\r\n",
        "print(squadre)\r\n",
        "\r\n",
        "\r\n"
      ],
      "outputs": [
        {
          "output_type": "stream",
          "name": "stdout",
          "text": [
            "['A', 'B', 'C', 'D', 'E', 'F']\n"
          ]
        }
      ],
      "metadata": {}
    },
    {
      "cell_type": "code",
      "execution_count": 2,
      "source": [
        "import itertools\r\n",
        "import random\r\n",
        "#i match si affrontano 1v1 quindi per forza sono solo du ele squadre che devono essere prese\r\n",
        "set_size = 2\r\n",
        "#set() permette di creare una colezione di elementi unici\r\n",
        "schedule = set()\r\n",
        "#le squadre che anndremo a sorteggiare\r\n",
        "teams = squadre\r\n",
        "for comb in itertools.product(teams, repeat=set_size):\r\n",
        "    comb = sorted(list(comb))\r\n",
        "    #print(comb ,\"\\n\")\r\n",
        "    #quasto if permette che non ci siano ripetizioni grazie al set()\r\n",
        "    if len(set(comb)) == set_size:\r\n",
        "        schedule.add(tuple(comb))\r\n",
        "\r\n",
        "#così che possa diventare una lista\r\n",
        "schedule = list(schedule)\r\n",
        "#per far si che escano in modo randomico così da non creare interferenze\r\n",
        "random.shuffle(schedule)\r\n",
        "print(schedule)\r\n",
        "\r\n",
        "for i in schedule:\r\n",
        "    print(i[0],\" \",i[1])\r\n"
      ],
      "outputs": [
        {
          "output_type": "stream",
          "name": "stdout",
          "text": [
            "[('A', 'B'), ('C', 'F'), ('D', 'E'), ('A', 'D'), ('C', 'D'), ('B', 'D'), ('B', 'C'), ('E', 'F'), ('A', 'F'), ('B', 'E'), ('A', 'E'), ('A', 'C'), ('B', 'F'), ('C', 'E'), ('D', 'F')]\n",
            "A   B\n",
            "C   F\n",
            "D   E\n",
            "A   D\n",
            "C   D\n",
            "B   D\n",
            "B   C\n",
            "E   F\n",
            "A   F\n",
            "B   E\n",
            "A   E\n",
            "A   C\n",
            "B   F\n",
            "C   E\n",
            "D   F\n"
          ]
        }
      ],
      "metadata": {}
    }
  ],
  "metadata": {
    "orig_nbformat": 4,
    "language_info": {
      "name": "python",
      "version": "3.9.2",
      "mimetype": "text/x-python",
      "codemirror_mode": {
        "name": "ipython",
        "version": 3
      },
      "pygments_lexer": "ipython3",
      "nbconvert_exporter": "python",
      "file_extension": ".py"
    },
    "kernelspec": {
      "name": "python3",
      "display_name": "Python 3.9.2 64-bit ('geo_env': conda)"
    },
    "interpreter": {
      "hash": "6b2186e92e5ccf417916dae32a12ace57b536e5d87ebf6bec9f55d3d305f6e91"
    }
  },
  "nbformat": 4,
  "nbformat_minor": 2
}