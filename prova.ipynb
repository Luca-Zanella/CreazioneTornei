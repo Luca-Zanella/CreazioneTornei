{
  "cells": [
    {
      "cell_type": "code",
      "execution_count": 30,
      "source": [
        "numero_squadre = int(input(\"Inserisci il numero di squadre \\n\"))\r\n",
        "squadre = []\r\n",
        "\r\n",
        "for i in range(numero_squadre):\r\n",
        "    nome_squadra = str(input(\"Inserici il nome della tua squadra \\n\"))\r\n",
        "    squadre.append(nome_squadra)\r\n",
        "\r\n",
        "print(squadre)\r\n",
        "\r\n",
        "\r\n"
      ],
      "outputs": [
        {
          "output_type": "stream",
          "name": "stdout",
          "text": [
            "['A', 'B', 'C', 'D', 'E', 'F']\n"
          ]
        }
      ],
      "metadata": {}
    },
    {
      "cell_type": "code",
      "execution_count": 31,
      "source": [
        "import itertools\r\n",
        "import random\r\n",
        "#i match si affrontano 1v1 quindi per forza sono solo du ele squadre che devono essere prese\r\n",
        "set_size = 2\r\n",
        "#set() permette di creare una colezione di elementi unici\r\n",
        "schedule = set()\r\n",
        "#le squadre che anndremo a sorteggiare\r\n",
        "teams = squadre\r\n",
        "for comb in itertools.product(teams, repeat=set_size):\r\n",
        "    comb = sorted(list(comb))\r\n",
        "    #print(comb ,\"\\n\")\r\n",
        "    #quasto if permette che non ci siano ripetizioni grazie al set()\r\n",
        "    if len(set(comb)) == set_size:\r\n",
        "        schedule.add(tuple(comb))\r\n",
        "\r\n",
        "#così che possa diventare una lista\r\n",
        "schedule = list(schedule)\r\n",
        "#per far si che escano in modo randomico così da non creare interferenze\r\n",
        "random.shuffle(schedule)\r\n",
        "print(schedule)\r\n"
      ],
      "outputs": [
        {
          "output_type": "stream",
          "name": "stdout",
          "text": [
            "[('D', 'F'), ('D', 'E'), ('A', 'C'), ('C', 'F'), ('A', 'D'), ('A', 'F'), ('B', 'F'), ('B', 'D'), ('A', 'B'), ('B', 'E'), ('C', 'D'), ('A', 'E'), ('C', 'E'), ('E', 'F'), ('B', 'C')]\n"
          ]
        }
      ],
      "metadata": {}
    }
  ],
  "metadata": {
    "orig_nbformat": 4,
    "language_info": {
      "name": "python"
    }
  },
  "nbformat": 4,
  "nbformat_minor": 2
}